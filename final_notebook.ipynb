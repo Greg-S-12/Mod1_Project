{
 "cells": [
  {
   "cell_type": "markdown",
   "metadata": {},
   "source": [
    "# KC Housing data"
   ]
  },
  {
   "cell_type": "markdown",
   "metadata": {},
   "source": [
    "Hi Greg, this is mostly so I can play with git but once we're both comfortable I was thinking that we could use this as the final jupyter notebook."
   ]
  },
  {
   "cell_type": "code",
   "execution_count": 1,
   "metadata": {},
   "outputs": [],
   "source": [
    "import pandas as pd\n",
    "import numpy as np\n",
    "import seaborn as sns\n",
    "import matplotlib as plt\n",
    "\n",
    "%matplotlib inline"
   ]
  },
  {
   "cell_type": "code",
   "execution_count": 2,
   "metadata": {},
   "outputs": [],
   "source": [
    "df = pd.read_csv('kc_house_data.csv')"
   ]
  },
  {
   "cell_type": "code",
   "execution_count": 3,
   "metadata": {},
   "outputs": [
    {
     "name": "stdout",
     "output_type": "stream",
     "text": [
      "View 0.29 % NaN\n",
      "Waterfront 11.0 % NaN\n",
      "Year Renovated 17.79 % NaN\n"
     ]
    }
   ],
   "source": [
    "print('View ' + str(round(df.isna().sum()['view']/len(df.view) *100, 2)) + ' % NaN')\n",
    "\n",
    "print('Waterfront ' + str(round(df.isna().sum()['waterfront']/len(df.waterfront) *100, 2)) + ' % NaN')\n",
    "\n",
    "print('Year Renovated ' + str(round(df.isna().sum()['yr_renovated']/len(df.yr_renovated) *100, 2)) + ' % NaN')"
   ]
  },
  {
   "cell_type": "code",
   "execution_count": 7,
   "metadata": {},
   "outputs": [],
   "source": [
    "# Change all strange header names to ones we like\n",
    "\n",
    "df = df.rename(columns={'date' : 'date_sold'})\n",
    "df = df.rename(columns={'price' : 'price_sold'})\n",
    "df = df.rename(columns={'bathrooms' : 'bathrooms_per_bedroom'})\n",
    "df = df.rename(columns={'view' : 'view_grade'})\n",
    "df = df.rename(columns={'sqft_above' : 'sqft_not_basement'})\n",
    "df = df.rename(columns={'sqft_living15' : 'sqft_living_15_neighbours'})\n",
    "df = df.rename(columns={'sqft_lot15' : 'sqft_lot_15_neighbours'})"
   ]
  },
  {
   "cell_type": "code",
   "execution_count": 9,
   "metadata": {},
   "outputs": [],
   "source": [
    "# SAY WHY WE USE MEDIAN\n",
    "\n",
    "df = df.fillna(value={'yr_renovated' : 0})\n",
    "df = df.fillna(value={'view_grade' : df.view_grade.median()})\n",
    "df = df.fillna(value={'waterfront' : df.waterfront.median()})"
   ]
  },
  {
   "cell_type": "code",
   "execution_count": 11,
   "metadata": {},
   "outputs": [],
   "source": [
    "# EXPLAIN MATHS\n",
    "\n",
    "df.sqft_basement = (df.sqft_living - df.sqft_not_basement)"
   ]
  },
  {
   "cell_type": "code",
   "execution_count": 20,
   "metadata": {},
   "outputs": [],
   "source": [
    "# WHY INT64\n",
    "\n",
    "df.date_sold = pd.to_datetime(df.date_sold)\n",
    "df.yr_renovated = df.yr_renovated.astype('int64')"
   ]
  }
 ],
 "metadata": {
  "kernelspec": {
   "display_name": "Python [conda env:learn-env] *",
   "language": "python",
   "name": "conda-env-learn-env-py"
  },
  "language_info": {
   "codemirror_mode": {
    "name": "ipython",
    "version": 3
   },
   "file_extension": ".py",
   "mimetype": "text/x-python",
   "name": "python",
   "nbconvert_exporter": "python",
   "pygments_lexer": "ipython3",
   "version": "3.6.6"
  }
 },
 "nbformat": 4,
 "nbformat_minor": 2
}
