{
 "cells": [
  {
   "cell_type": "markdown",
   "metadata": {},
   "source": [
    "# KC Housing data"
   ]
  },
  {
   "cell_type": "markdown",
   "metadata": {},
   "source": [
    "Hi Greg, this is mostly so I can play with git but once we're both comfortable I was thinking that we could use this as the final jupyter notebook."
   ]
  },
  {
   "cell_type": "code",
   "execution_count": 1,
   "metadata": {},
   "outputs": [],
   "source": [
    "import pandas as pd\n",
    "import numpy as np\n",
    "import seaborn as sns\n",
    "import matplotlib as plt\n",
    "\n",
    "%matplotlib inline"
   ]
  },
  {
   "cell_type": "code",
   "execution_count": 2,
   "metadata": {},
   "outputs": [],
   "source": [
    "df = pd.read_csv('kc_house_data.csv')"
   ]
  },
  {
   "cell_type": "code",
   "execution_count": 3,
   "metadata": {},
   "outputs": [
    {
     "name": "stdout",
     "output_type": "stream",
     "text": [
      "View 0.29 % NaN\n",
      "Waterfront 11.0 % NaN\n",
      "Year Renovated 17.79 % NaN\n"
     ]
    }
   ],
   "source": [
    "print('View ' + str(round(df.isna().sum()['view']/len(df.view) *100, 2)) + ' % NaN')\n",
    "\n",
    "print('Waterfront ' + str(round(df.isna().sum()['waterfront']/len(df.waterfront) *100, 2)) + ' % NaN')\n",
    "\n",
    "print('Year Renovated ' + str(round(df.isna().sum()['yr_renovated']/len(df.yr_renovated) *100, 2)) + ' % NaN')"
   ]
  },
  {
   "cell_type": "code",
   "execution_count": 4,
   "metadata": {},
   "outputs": [],
   "source": [
    "# Change all unclear header names to ones we like\n",
    "\n",
    "df = df.rename(columns={'date' : 'date_sold'})\n",
    "df = df.rename(columns={'price' : 'price_sold'})\n",
    "df = df.rename(columns={'bathrooms' : 'bathrooms_per_bedroom'})\n",
    "df = df.rename(columns={'view' : 'view_grade'})\n",
    "df = df.rename(columns={'sqft_above' : 'sqft_not_basement'})\n",
    "df = df.rename(columns={'sqft_living15' : 'sqft_living_15_neighbours'})\n",
    "df = df.rename(columns={'sqft_lot15' : 'sqft_lot_15_neighbours'})"
   ]
  },
  {
   "cell_type": "code",
   "execution_count": 5,
   "metadata": {},
   "outputs": [],
   "source": [
    "# SAY WHY WE USE MEDIAN\n",
    "\n",
    "df = df.fillna(value={'yr_renovated' : 0})\n",
    "df = df.fillna(value={'view_grade' : df.view_grade.median()})\n",
    "df = df.fillna(value={'waterfront' : df.waterfront.median()})"
   ]
  },
  {
   "cell_type": "code",
   "execution_count": 6,
   "metadata": {},
   "outputs": [],
   "source": [
    "# EXPLAIN MATHS\n",
    "\n",
    "df.sqft_basement = (df.sqft_living - df.sqft_not_basement)"
   ]
  },
  {
   "cell_type": "code",
   "execution_count": 7,
   "metadata": {},
   "outputs": [],
   "source": [
    "# WHY INT64\n",
    "\n",
    "df.date_sold = pd.to_datetime(df.date_sold)\n",
    "df.yr_renovated = df.yr_renovated.astype('int64')"
   ]
  },
  {
   "cell_type": "code",
   "execution_count": 8,
   "metadata": {},
   "outputs": [
    {
     "data": {
      "text/html": [
       "<div>\n",
       "<style scoped>\n",
       "    .dataframe tbody tr th:only-of-type {\n",
       "        vertical-align: middle;\n",
       "    }\n",
       "\n",
       "    .dataframe tbody tr th {\n",
       "        vertical-align: top;\n",
       "    }\n",
       "\n",
       "    .dataframe thead th {\n",
       "        text-align: right;\n",
       "    }\n",
       "</style>\n",
       "<table border=\"1\" class=\"dataframe\">\n",
       "  <thead>\n",
       "    <tr style=\"text-align: right;\">\n",
       "      <th></th>\n",
       "      <th>id</th>\n",
       "      <th>date_sold</th>\n",
       "      <th>price_sold</th>\n",
       "      <th>bedrooms</th>\n",
       "      <th>bathrooms_per_bedroom</th>\n",
       "      <th>sqft_living</th>\n",
       "      <th>sqft_lot</th>\n",
       "      <th>floors</th>\n",
       "      <th>waterfront</th>\n",
       "      <th>view_grade</th>\n",
       "      <th>...</th>\n",
       "      <th>grade</th>\n",
       "      <th>sqft_not_basement</th>\n",
       "      <th>sqft_basement</th>\n",
       "      <th>yr_built</th>\n",
       "      <th>yr_renovated</th>\n",
       "      <th>zipcode</th>\n",
       "      <th>lat</th>\n",
       "      <th>long</th>\n",
       "      <th>sqft_living_15_neighbours</th>\n",
       "      <th>sqft_lot_15_neighbours</th>\n",
       "    </tr>\n",
       "  </thead>\n",
       "  <tbody>\n",
       "    <tr>\n",
       "      <th>15856</th>\n",
       "      <td>2402100895</td>\n",
       "      <td>2014-06-25</td>\n",
       "      <td>640000.0</td>\n",
       "      <td>33</td>\n",
       "      <td>1.75</td>\n",
       "      <td>1620</td>\n",
       "      <td>6000</td>\n",
       "      <td>1.0</td>\n",
       "      <td>0.0</td>\n",
       "      <td>0.0</td>\n",
       "      <td>...</td>\n",
       "      <td>7</td>\n",
       "      <td>1040</td>\n",
       "      <td>580</td>\n",
       "      <td>1947</td>\n",
       "      <td>0</td>\n",
       "      <td>98103</td>\n",
       "      <td>47.6878</td>\n",
       "      <td>-122.331</td>\n",
       "      <td>1330</td>\n",
       "      <td>4700</td>\n",
       "    </tr>\n",
       "  </tbody>\n",
       "</table>\n",
       "<p>1 rows × 21 columns</p>\n",
       "</div>"
      ],
      "text/plain": [
       "               id  date_sold  price_sold  bedrooms  bathrooms_per_bedroom  \\\n",
       "15856  2402100895 2014-06-25    640000.0        33                   1.75   \n",
       "\n",
       "       sqft_living  sqft_lot  floors  waterfront  view_grade  \\\n",
       "15856         1620      6000     1.0         0.0         0.0   \n",
       "\n",
       "                ...            grade  sqft_not_basement  sqft_basement  \\\n",
       "15856           ...                7               1040            580   \n",
       "\n",
       "       yr_built  yr_renovated  zipcode      lat     long  \\\n",
       "15856      1947             0    98103  47.6878 -122.331   \n",
       "\n",
       "       sqft_living_15_neighbours  sqft_lot_15_neighbours  \n",
       "15856                       1330                    4700  \n",
       "\n",
       "[1 rows x 21 columns]"
      ]
     },
     "execution_count": 8,
     "metadata": {},
     "output_type": "execute_result"
    }
   ],
   "source": [
    "# Strange outliers\n",
    "# There is a 33 bedroom house, after comparing this property with other 3 bedroom houses we decided that there had been a \n",
    "# typo in data entry and that the 33 bedrooms should become a 3 bedroom property\n",
    "\n",
    "df.loc[df['bedrooms'] == 33]"
   ]
  },
  {
   "cell_type": "code",
   "execution_count": 9,
   "metadata": {},
   "outputs": [
    {
     "data": {
      "text/html": [
       "<div>\n",
       "<style scoped>\n",
       "    .dataframe tbody tr th:only-of-type {\n",
       "        vertical-align: middle;\n",
       "    }\n",
       "\n",
       "    .dataframe tbody tr th {\n",
       "        vertical-align: top;\n",
       "    }\n",
       "\n",
       "    .dataframe thead th {\n",
       "        text-align: right;\n",
       "    }\n",
       "</style>\n",
       "<table border=\"1\" class=\"dataframe\">\n",
       "  <thead>\n",
       "    <tr style=\"text-align: right;\">\n",
       "      <th></th>\n",
       "      <th>id</th>\n",
       "      <th>date_sold</th>\n",
       "      <th>price_sold</th>\n",
       "      <th>bedrooms</th>\n",
       "      <th>bathrooms_per_bedroom</th>\n",
       "      <th>sqft_living</th>\n",
       "      <th>sqft_lot</th>\n",
       "      <th>floors</th>\n",
       "      <th>waterfront</th>\n",
       "      <th>view_grade</th>\n",
       "      <th>...</th>\n",
       "      <th>grade</th>\n",
       "      <th>sqft_not_basement</th>\n",
       "      <th>sqft_basement</th>\n",
       "      <th>yr_built</th>\n",
       "      <th>yr_renovated</th>\n",
       "      <th>zipcode</th>\n",
       "      <th>lat</th>\n",
       "      <th>long</th>\n",
       "      <th>sqft_living_15_neighbours</th>\n",
       "      <th>sqft_lot_15_neighbours</th>\n",
       "    </tr>\n",
       "  </thead>\n",
       "  <tbody>\n",
       "    <tr>\n",
       "      <th>0</th>\n",
       "      <td>7129300520</td>\n",
       "      <td>2014-10-13</td>\n",
       "      <td>221900.0</td>\n",
       "      <td>3</td>\n",
       "      <td>1.00</td>\n",
       "      <td>1180</td>\n",
       "      <td>5650</td>\n",
       "      <td>1.0</td>\n",
       "      <td>0.0</td>\n",
       "      <td>0.0</td>\n",
       "      <td>...</td>\n",
       "      <td>7</td>\n",
       "      <td>1180</td>\n",
       "      <td>0</td>\n",
       "      <td>1955</td>\n",
       "      <td>0</td>\n",
       "      <td>98178</td>\n",
       "      <td>47.5112</td>\n",
       "      <td>-122.257</td>\n",
       "      <td>1340</td>\n",
       "      <td>5650</td>\n",
       "    </tr>\n",
       "    <tr>\n",
       "      <th>1</th>\n",
       "      <td>6414100192</td>\n",
       "      <td>2014-12-09</td>\n",
       "      <td>538000.0</td>\n",
       "      <td>3</td>\n",
       "      <td>2.25</td>\n",
       "      <td>2570</td>\n",
       "      <td>7242</td>\n",
       "      <td>2.0</td>\n",
       "      <td>0.0</td>\n",
       "      <td>0.0</td>\n",
       "      <td>...</td>\n",
       "      <td>7</td>\n",
       "      <td>2170</td>\n",
       "      <td>400</td>\n",
       "      <td>1951</td>\n",
       "      <td>1991</td>\n",
       "      <td>98125</td>\n",
       "      <td>47.7210</td>\n",
       "      <td>-122.319</td>\n",
       "      <td>1690</td>\n",
       "      <td>7639</td>\n",
       "    </tr>\n",
       "    <tr>\n",
       "      <th>4</th>\n",
       "      <td>1954400510</td>\n",
       "      <td>2015-02-18</td>\n",
       "      <td>510000.0</td>\n",
       "      <td>3</td>\n",
       "      <td>2.00</td>\n",
       "      <td>1680</td>\n",
       "      <td>8080</td>\n",
       "      <td>1.0</td>\n",
       "      <td>0.0</td>\n",
       "      <td>0.0</td>\n",
       "      <td>...</td>\n",
       "      <td>8</td>\n",
       "      <td>1680</td>\n",
       "      <td>0</td>\n",
       "      <td>1987</td>\n",
       "      <td>0</td>\n",
       "      <td>98074</td>\n",
       "      <td>47.6168</td>\n",
       "      <td>-122.045</td>\n",
       "      <td>1800</td>\n",
       "      <td>7503</td>\n",
       "    </tr>\n",
       "  </tbody>\n",
       "</table>\n",
       "<p>3 rows × 21 columns</p>\n",
       "</div>"
      ],
      "text/plain": [
       "           id  date_sold  price_sold  bedrooms  bathrooms_per_bedroom  \\\n",
       "0  7129300520 2014-10-13    221900.0         3                   1.00   \n",
       "1  6414100192 2014-12-09    538000.0         3                   2.25   \n",
       "4  1954400510 2015-02-18    510000.0         3                   2.00   \n",
       "\n",
       "   sqft_living  sqft_lot  floors  waterfront  view_grade  \\\n",
       "0         1180      5650     1.0         0.0         0.0   \n",
       "1         2570      7242     2.0         0.0         0.0   \n",
       "4         1680      8080     1.0         0.0         0.0   \n",
       "\n",
       "            ...            grade  sqft_not_basement  sqft_basement  yr_built  \\\n",
       "0           ...                7               1180              0      1955   \n",
       "1           ...                7               2170            400      1951   \n",
       "4           ...                8               1680              0      1987   \n",
       "\n",
       "   yr_renovated  zipcode      lat     long  sqft_living_15_neighbours  \\\n",
       "0             0    98178  47.5112 -122.257                       1340   \n",
       "1          1991    98125  47.7210 -122.319                       1690   \n",
       "4             0    98074  47.6168 -122.045                       1800   \n",
       "\n",
       "   sqft_lot_15_neighbours  \n",
       "0                    5650  \n",
       "1                    7639  \n",
       "4                    7503  \n",
       "\n",
       "[3 rows x 21 columns]"
      ]
     },
     "execution_count": 9,
     "metadata": {},
     "output_type": "execute_result"
    }
   ],
   "source": [
    "df.loc[df['bedrooms'] == 3].head(3)"
   ]
  },
  {
   "cell_type": "code",
   "execution_count": 10,
   "metadata": {},
   "outputs": [],
   "source": [
    "# This changes the 33 into a 3\n",
    "\n",
    "df.loc[df['bedrooms'] == 33, 'bedrooms'] = 3"
   ]
  },
  {
   "cell_type": "markdown",
   "metadata": {},
   "source": [
    "# Questions"
   ]
  },
  {
   "cell_type": "markdown",
   "metadata": {},
   "source": [
    "## 1) How does the location affect the price?"
   ]
  },
  {
   "cell_type": "code",
   "execution_count": null,
   "metadata": {},
   "outputs": [],
   "source": []
  },
  {
   "cell_type": "markdown",
   "metadata": {},
   "source": [
    "## 2) Can categorise the houses?"
   ]
  },
  {
   "cell_type": "code",
   "execution_count": null,
   "metadata": {},
   "outputs": [],
   "source": []
  },
  {
   "cell_type": "markdown",
   "metadata": {},
   "source": [
    "## 3) For each category what are the best three variables to target in order to raise the price? Are any variables globally good?"
   ]
  },
  {
   "cell_type": "code",
   "execution_count": 12,
   "metadata": {},
   "outputs": [
    {
     "data": {
      "text/plain": [
       "Index(['id', 'date_sold', 'price_sold', 'bedrooms', 'bathrooms_per_bedroom',\n",
       "       'sqft_living', 'sqft_lot', 'floors', 'waterfront', 'view_grade',\n",
       "       'condition', 'grade', 'sqft_not_basement', 'sqft_basement', 'yr_built',\n",
       "       'yr_renovated', 'zipcode', 'lat', 'long', 'sqft_living_15_neighbours',\n",
       "       'sqft_lot_15_neighbours'],\n",
       "      dtype='object')"
      ]
     },
     "execution_count": 12,
     "metadata": {},
     "output_type": "execute_result"
    }
   ],
   "source": [
    "df.columns"
   ]
  },
  {
   "cell_type": "code",
   "execution_count": 13,
   "metadata": {},
   "outputs": [],
   "source": [
    "# We need to remove any variables that cannot be manipulated after purchasing a property\n",
    "# For example if the property was not by the waterfront and had a bad view there's not a lot we can do to change that\n",
    "\n",
    "df_control =df.drop(['id', 'date_sold', 'price_sold', 'waterfront', 'view_grade', 'condition', 'grade', 'yr_built',\n",
    "                     'yr_renovated', 'zipcode', 'lat', 'long', 'sqft_living_15_neighbours','sqft_lot_15_neighbours'],\n",
    "                    axis=1)"
   ]
  },
  {
   "cell_type": "markdown",
   "metadata": {},
   "source": [
    "Of the seven variables that we have left we want to find a way of picking the three with the most impact on the price. We decided that this would correspond to the model with the highest R squared value. To find the best R squared value we created a function that performed linear regresion on every combination of three variables out of our list of impactful variables."
   ]
  },
  {
   "cell_type": "code",
   "execution_count": null,
   "metadata": {},
   "outputs": [],
   "source": [
    "# A function that can take any of our dataframes and returns an R2 ranking for each group of 3 of its columns\n",
    "\n",
    "\n",
    "def r2(data):\n",
    "    head_list = list(data.columns)\n",
    "    combins = list(itt.combinations(head_list, 3))\n",
    "    r2data = pd.DataFrame()\n",
    "    for i in range(len(combins)):\n",
    "        headvar1 = combins[i][0]\n",
    "        headvar2 = combins[i][1]\n",
    "        headvar3 = combins[i][2]\n",
    "        triple = '{}, {}, and {}'.format(headvar1, headvar2, headvar3)\n",
    "        minidf = pd.DataFrame({headvar1:data[headvar1], headvar2:data[headvar2],\n",
    "                               headvar3:data[headvar3], 'price_sold':data['price_sold']})\n",
    "        X = minidf.drop('price_sold',axis=1)\n",
    "        y = minidf['price_sold']\n",
    "\n",
    "        # Setting up the LEARNER\n",
    "        X = sm.add_constant(X)\n",
    "        model_sm = sm.OLS(y,X)\n",
    "\n",
    "         # Actually LEARNING\n",
    "        results = model_sm.fit()\n",
    "\n",
    "        # Evaluating performance\n",
    "        r2 = results.rsquared.round(2)\n",
    "        \n",
    "        # Add to the R2 dataframe\n",
    "        triple_r2_df = pd.DataFrame(data = {'Triples': [triple, 'delete me'], 'R_squared': [r2,'and me']})\n",
    "        triple_r2_df = triple_r2_df[:1]\n",
    "        \n",
    "        r2data = r2data.append(triple_r2_df, ignore_index=True)\n",
    "        \n",
    "    r2data = r2data.set_index('Triples')\n",
    "    return r2data\n"
   ]
  }
 ],
 "metadata": {
  "kernelspec": {
   "display_name": "Python [conda env:learn-env] *",
   "language": "python",
   "name": "conda-env-learn-env-py"
  },
  "language_info": {
   "codemirror_mode": {
    "name": "ipython",
    "version": 3
   },
   "file_extension": ".py",
   "mimetype": "text/x-python",
   "name": "python",
   "nbconvert_exporter": "python",
   "pygments_lexer": "ipython3",
   "version": "3.6.6"
  }
 },
 "nbformat": 4,
 "nbformat_minor": 2
}
